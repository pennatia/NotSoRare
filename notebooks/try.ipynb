{
 "cells": [
  {
   "cell_type": "code",
   "execution_count": 2,
   "metadata": {},
   "outputs": [],
   "source": [
    "#%%\n",
    "import requests\n",
    "import json\n",
    "import pandas as pd"
   ]
  },
  {
   "cell_type": "code",
   "execution_count": 23,
   "metadata": {},
   "outputs": [],
   "source": [
    "token = \"Your token here\"\n",
    "headers = {\"content-type\" : \"application/json\", \"Authorization\" : token, \"JWT-AUD\": 'Cost Analysis'}\n",
    "\n",
    "def run_query(query): # A simple function to use requests.post to make the API call. Note the json= section.\n",
    "    request = requests.post('https://api.sorare.com/graphql', json={'query': query}, headers = headers)\n",
    "    if request.status_code == 200:\n",
    "        return request.json()\n",
    "    else:\n",
    "        raise Exception(\"Query failed to run by returning code of {}. {}\".format(request.status_code, query))\n",
    "        \n",
    "# The GraphQL query (with a few aditional bits included) itself defined as a multi-line string.       \n",
    "query = \"\"\"\n",
    "query{\n",
    "\tplayer(slug: \"sandro-tonali\"){\n",
    "    slug\n",
    "  \tcards(first:1000){\n",
    "      nodes{\n",
    "        name\n",
    "        canBuy\n",
    "        rarity\n",
    "        priceRange{\n",
    "          min\n",
    "          max\n",
    "        }\n",
    "        publicMinPrice\n",
    "        privateMinPrice\n",
    "        \n",
    "      }\n",
    "      }\n",
    "  }}\n",
    "  \"\"\"\n",
    "\n",
    "result = run_query(query) # Execute the query\n",
    "#%%\n",
    "df = pd.json_normalize(result['data']['player']['cards']['nodes'])\n",
    "\n",
    "# %%"
   ]
  },
  {
   "cell_type": "code",
   "execution_count": 10,
   "metadata": {},
   "outputs": [],
   "source": [
    "from __future__ import annotations"
   ]
  },
  {
   "cell_type": "code",
   "execution_count": 4,
   "metadata": {},
   "outputs": [],
   "source": [
    "key = \"YOUR API KEY HERE\"\n",
    "last_name = 'skriniar'"
   ]
  },
  {
   "cell_type": "code",
   "execution_count": 5,
   "metadata": {},
   "outputs": [],
   "source": [
    "def get_player_id(\n",
    "    last_name : str = None,\n",
    "    api_key : str = None\n",
    "    ) -> pd.DataFrame:\n",
    "\n",
    "    url = f\"https://api-football-v1.p.rapidapi.com/v2/players/search/{last_name}\"\n",
    "    headers = {\n",
    "        'x-rapidapi-host': \"api-football-v1.p.rapidapi.com\",\n",
    "        'x-rapidapi-key': api_key\n",
    "        }\n",
    "    \n",
    "    player_search_rsp = requests.request(\"GET\", url, headers = headers)\n",
    "    player_search_df = pd.json_normalize(player_search_rsp.json()['api']['players'])\n",
    "    return player_search_df\n",
    "\n",
    "skriniar = get_player_id(last_name = last_name, api_key = key)"
   ]
  },
  {
   "cell_type": "code",
   "execution_count": 6,
   "metadata": {},
   "outputs": [
    {
     "data": {
      "text/html": [
       "<div>\n",
       "<style scoped>\n",
       "    .dataframe tbody tr th:only-of-type {\n",
       "        vertical-align: middle;\n",
       "    }\n",
       "\n",
       "    .dataframe tbody tr th {\n",
       "        vertical-align: top;\n",
       "    }\n",
       "\n",
       "    .dataframe thead th {\n",
       "        text-align: right;\n",
       "    }\n",
       "</style>\n",
       "<table border=\"1\" class=\"dataframe\">\n",
       "  <thead>\n",
       "    <tr style=\"text-align: right;\">\n",
       "      <th></th>\n",
       "      <th>player_id</th>\n",
       "      <th>player_name</th>\n",
       "      <th>firstname</th>\n",
       "      <th>lastname</th>\n",
       "      <th>number</th>\n",
       "      <th>position</th>\n",
       "      <th>age</th>\n",
       "      <th>birth_date</th>\n",
       "      <th>birth_place</th>\n",
       "      <th>birth_country</th>\n",
       "      <th>nationality</th>\n",
       "      <th>height</th>\n",
       "      <th>weight</th>\n",
       "    </tr>\n",
       "  </thead>\n",
       "  <tbody>\n",
       "    <tr>\n",
       "      <th>0</th>\n",
       "      <td>198</td>\n",
       "      <td>M. Škriniar</td>\n",
       "      <td>Milan</td>\n",
       "      <td>Škriniar</td>\n",
       "      <td>None</td>\n",
       "      <td>Defender</td>\n",
       "      <td>27</td>\n",
       "      <td>11/02/1995</td>\n",
       "      <td>Žiar nad Hronom</td>\n",
       "      <td>Slovakia</td>\n",
       "      <td>Slovakia</td>\n",
       "      <td>187 cm</td>\n",
       "      <td>80 kg</td>\n",
       "    </tr>\n",
       "  </tbody>\n",
       "</table>\n",
       "</div>"
      ],
      "text/plain": [
       "   player_id  player_name firstname  lastname number  position  age  \\\n",
       "0        198  M. Škriniar     Milan  Škriniar   None  Defender   27   \n",
       "\n",
       "   birth_date      birth_place birth_country nationality  height weight  \n",
       "0  11/02/1995  Žiar nad Hronom      Slovakia    Slovakia  187 cm  80 kg  "
      ]
     },
     "execution_count": 6,
     "metadata": {},
     "output_type": "execute_result"
    }
   ],
   "source": [
    "skriniar"
   ]
  },
  {
   "cell_type": "code",
   "execution_count": 11,
   "metadata": {},
   "outputs": [],
   "source": [
    "def player_stats(id : int, api_key : str, szn: str | None = None) -> pd.DataFrame:\n",
    "    if szn is not None:\n",
    "        url = f\"https://api-football-v1.p.rapidapi.com/v2/players/player/{id}/{szn}\"\n",
    "    else:\n",
    "        url = f\"https://api-football-v1.p.rapidapi.com/v2/players/player/{id}\"\n",
    "        \n",
    "    headers = {\n",
    "    'x-rapidapi-host': \"api-football-v1.p.rapidapi.com\",\n",
    "    'x-rapidapi-key': api_key\n",
    "    }\n",
    "\n",
    "    player_stat_rsp = requests.request(\"GET\", url, headers = headers)\n",
    "    player_stat_df = pd.json_normalize(player_stat_rsp.json()['api']['players'])\n",
    "\n",
    "    return player_stat_df\n"
   ]
  },
  {
   "cell_type": "code",
   "execution_count": 17,
   "metadata": {},
   "outputs": [],
   "source": [
    "def get_last_fixtures(team_id : int, api_key : str, num_fixts : int = 5) -> pd.DataFrame:\n",
    "    \n",
    "    url = f\"https://api-football-v1.p.rapidapi.com/v2/fixtures/team/{team_id}/last/{num_fixts}\"\n",
    "        \n",
    "    headers = {\n",
    "    'x-rapidapi-host': \"api-football-v1.p.rapidapi.com\",\n",
    "    'x-rapidapi-key': api_key\n",
    "    }\n",
    "\n",
    "    last_fixture_rsp = requests.request(\"GET\", url, headers = headers)\n",
    "    last_fixture_df = pd.json_normalize(last_fixture_rsp.json()['api']['fixtures'])\n",
    "    return last_fixture_df\n"
   ]
  },
  {
   "cell_type": "code",
   "execution_count": 18,
   "metadata": {},
   "outputs": [],
   "source": [
    "def get_next_fixtures(team_id : int, api_key : str, num_fixts : int = 5) -> pd.DataFrame:\n",
    "    \n",
    "    url = f\"https://api-football-v1.p.rapidapi.com/v2/fixtures/team/{team_id}/next/{num_fixts}\"\n",
    "        \n",
    "    headers = {\n",
    "    'x-rapidapi-host': \"api-football-v1.p.rapidapi.com\",\n",
    "    'x-rapidapi-key': api_key\n",
    "    }\n",
    "\n",
    "    next_fixture_rsp = requests.request(\"GET\", url, headers = headers)\n",
    "    next_fixture_df = pd.json_normalize(next_fixture_rsp.json()['api']['fixtures'])\n",
    "    return next_fixture_df\n"
   ]
  },
  {
   "cell_type": "code",
   "execution_count": 19,
   "metadata": {},
   "outputs": [],
   "source": [
    "def get_fixture_stats(fixture_id: int, player_id : int, api_key : str):\n",
    "    url = f\"https://api-football-v1.p.rapidapi.com/v2/players/fixture/{fixture_id}\"\n",
    "\n",
    "    headers = {\n",
    "    'x-rapidapi-host': \"api-football-v1.p.rapidapi.com\",\n",
    "    'x-rapidapi-key': api_key\n",
    "    }\n",
    "\n",
    "    fixture_stats = requests.request(\"GET\", url, headers = headers)\n",
    "    fixture_stats_df = pd.json_normalize(fixture_stats.json()['api']['players'])\n",
    "    player_fixture_stats = fixture_stats_df[fixture_stats_df['player_id'] == player_id]\n",
    "    return player_fixture_stats\n"
   ]
  },
  {
   "cell_type": "code",
   "execution_count": 20,
   "metadata": {},
   "outputs": [],
   "source": [
    "def get_last_x_stats(team_id : int, player_id : int, api_key : str, num_fixts: int = 5):\n",
    "    last_fixtures = get_last_fixtures(team_id, api_key, num_fixts)\n",
    "\n",
    "    f_stats = pd.DataFrame()\n",
    "    \n",
    "    for i in range(num_fixts):\n",
    "        f_id = last_fixtures.iloc[i]['fixture_id']\n",
    "        temp_df = get_fixture_stats(f_id,player_id,api_key)\n",
    "        temp_df['team_1'] = last_fixtures.iloc[i]['homeTeam.team_name']\n",
    "        temp_df['team_2'] = last_fixtures.iloc[i]['awayTeam.team_name']\n",
    "        f_stats = pd.concat([f_stats, temp_df]).reset_index(drop=True)\n",
    "    \n",
    "    return f_stats\n"
   ]
  },
  {
   "cell_type": "code",
   "execution_count": 29,
   "metadata": {},
   "outputs": [],
   "source": [
    "last_fixture = get_last_x_stats(505,198,key,15)\n"
   ]
  },
  {
   "cell_type": "code",
   "execution_count": 49,
   "metadata": {},
   "outputs": [],
   "source": [
    "last_fixture['fixture'] = last_fixture['team_1'] + ' - ' + last_fixture['team_2']"
   ]
  },
  {
   "cell_type": "code",
   "execution_count": 50,
   "metadata": {},
   "outputs": [],
   "source": [
    "reversed_last_fixture = last_fixture.iloc[::-1]"
   ]
  },
  {
   "cell_type": "code",
   "execution_count": 51,
   "metadata": {},
   "outputs": [],
   "source": [
    "from scipy.interpolate import make_interp_spline\n",
    "import numpy as np"
   ]
  },
  {
   "cell_type": "code",
   "execution_count": 70,
   "metadata": {},
   "outputs": [],
   "source": [
    "reversed_last_fixture = reversed_last_fixture[~reversed_last_fixture['rating'].isnull()]"
   ]
  },
  {
   "cell_type": "code",
   "execution_count": 72,
   "metadata": {},
   "outputs": [],
   "source": [
    "reversed_last_fixture = reversed_last_fixture.reset_index(drop=True)"
   ]
  },
  {
   "cell_type": "code",
   "execution_count": 73,
   "metadata": {},
   "outputs": [
    {
     "data": {
      "text/plain": [
       "array([ 0,  1,  2,  3,  4,  5,  6,  7,  8,  9, 10, 11, 12, 13, 14])"
      ]
     },
     "execution_count": 73,
     "metadata": {},
     "output_type": "execute_result"
    }
   ],
   "source": [
    "np.arange(0,len(reversed_last_fixture),1)"
   ]
  },
  {
   "cell_type": "code",
   "execution_count": 78,
   "metadata": {},
   "outputs": [],
   "source": [
    "retry = make_interp_spline(np.arange(0,len(reversed_last_fixture),1), pd.to_numeric(reversed_last_fixture['rating']))\n",
    " \n",
    "X_ = np.linspace(0, len(reversed_last_fixture), 1000)\n",
    "Y_ = retry(X_)"
   ]
  },
  {
   "cell_type": "code",
   "execution_count": 79,
   "metadata": {},
   "outputs": [
    {
     "data": {
      "image/png": "[encoded data removed]",
      "text/plain": [
       "<Figure size 2160x1080 with 1 Axes>"
      ]
     },
     "metadata": {
      "needs_background": "dark"
     },
     "output_type": "display_data"
    }
   ],
   "source": [
    "import matplotlib.pyplot as plt\n",
    "import seaborn as sns\n",
    "ax = plt.figure(figsize = (30,15))\n",
    "hfont = {'fontname':'Helvetica'}\n",
    "\n",
    "\n",
    "with plt.style.context('dark_background'):\n",
    "    plt.plot(X_, Y_, alpha = 0.4, color = 'white')\n",
    "    plt.scatter(y = pd.to_numeric(reversed_last_fixture['rating']), x =reversed_last_fixture['fixture'], s = 200 , color = 'red')\n",
    "    plt.axhline(y = 6.9, alpha = 0.3, color = 'w', linestyle = 'dashed')\n",
    "    plt.text(y = 7.0, s= 'Season Average', x = -0.4, ha = 'left', fontsize = 14, color = 'w', alpha = 0.7, **hfont)\n",
    "    plt.title(\"Milan Skriniar | Last 10 Games\", fontsize = 30, pad = 30, **hfont)\n",
    "    plt.ylabel(\"Match Rating (Football API)\", fontsize = 20, labelpad = 20, **hfont)\n",
    "    plt.xlabel(\"Serie A Fixture\", fontsize = 20, labelpad = 20, **hfont)\n",
    "    plt.ylim([6,10])"
   ]
  },
  {
   "cell_type": "code",
   "execution_count": null,
   "metadata": {},
   "outputs": [],
   "source": []
  }
 ],
 "metadata": {
  "interpreter": {
   "hash": "57bbc2d4fc4e251bbebdf0f12573c6359880ff975217ba002c6460dc071ce54f"
  },
  "kernelspec": {
   "display_name": "Python 3.9.6 64-bit",
   "language": "python",
   "name": "python3"
  },
  "language_info": {
   "codemirror_mode": {
    "name": "ipython",
    "version": 3
   },
   "file_extension": ".py",
   "mimetype": "text/x-python",
   "name": "python",
   "nbconvert_exporter": "python",
   "pygments_lexer": "ipython3",
   "version": "3.9.6"
  },
  "orig_nbformat": 4
 },
 "nbformat": 4,
 "nbformat_minor": 2
}
